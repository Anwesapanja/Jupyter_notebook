{
 "cells": [
  {
   "cell_type": "code",
   "execution_count": 5,
   "id": "ef2e94b3",
   "metadata": {},
   "outputs": [],
   "source": [
    "#K-Means Clustering\n",
    "#K Means Clustering is a clustering method that sudivides a single cluster or a collection of data pts into k \n",
    "#different clusters or grps\n",
    "#It is an unsupervized learning algorithm which grps it in unlevel dataset into different cluster.\n",
    "#Here k diefinrs the no of predefined clusters that needs to be created in the process, for ex- if k = 2 \n",
    "#there will be two clusters , if k=3 there will be 3 clusters and so on\n",
    "#It is an iteretive algorithm that divides the unlevel into k diff clusters in such away that each dataset belongs \n",
    "#to only one grp that has similar properties"
   ]
  },
  {
   "cell_type": "code",
   "execution_count": 1,
   "id": "537837a0",
   "metadata": {},
   "outputs": [],
   "source": [
    "from pandas import DataFrame\n",
    "import matplotlib.pyplot as plt\n",
    "from sklearn.cluster import KMeans\n",
    "import numpy as np"
   ]
  },
  {
   "cell_type": "code",
   "execution_count": 7,
   "id": "43c7ba28",
   "metadata": {},
   "outputs": [
    {
     "data": {
      "text/plain": [
       "{'x': [185, 170, 168, 179, 182, 188, 180, 180, 183, 180, 180, 177],\n",
       " 'y': [72, 56, 60, 68, 72, 77, 71, 70, 84, 88, 67, 76]}"
      ]
     },
     "execution_count": 7,
     "metadata": {},
     "output_type": "execute_result"
    }
   ],
   "source": [
    "Data ={'x':[185,170,168,179,182,188,180,180,183,180,180,177],\n",
    "      'y':[72,56,60,68,72,77,71,70,84,88,67,76]}\n",
    "Data"
   ]
  },
  {
   "cell_type": "code",
   "execution_count": 8,
   "id": "00264df9",
   "metadata": {},
   "outputs": [],
   "source": [
    "df=DataFrame(Data,columns=['x','y'])"
   ]
  },
  {
   "cell_type": "code",
   "execution_count": 9,
   "id": "046cfccf",
   "metadata": {},
   "outputs": [
    {
     "data": {
      "text/html": [
       "<div>\n",
       "<style scoped>\n",
       "    .dataframe tbody tr th:only-of-type {\n",
       "        vertical-align: middle;\n",
       "    }\n",
       "\n",
       "    .dataframe tbody tr th {\n",
       "        vertical-align: top;\n",
       "    }\n",
       "\n",
       "    .dataframe thead th {\n",
       "        text-align: right;\n",
       "    }\n",
       "</style>\n",
       "<table border=\"1\" class=\"dataframe\">\n",
       "  <thead>\n",
       "    <tr style=\"text-align: right;\">\n",
       "      <th></th>\n",
       "      <th>x</th>\n",
       "      <th>y</th>\n",
       "    </tr>\n",
       "  </thead>\n",
       "  <tbody>\n",
       "    <tr>\n",
       "      <th>0</th>\n",
       "      <td>185</td>\n",
       "      <td>72</td>\n",
       "    </tr>\n",
       "    <tr>\n",
       "      <th>1</th>\n",
       "      <td>170</td>\n",
       "      <td>56</td>\n",
       "    </tr>\n",
       "    <tr>\n",
       "      <th>2</th>\n",
       "      <td>168</td>\n",
       "      <td>60</td>\n",
       "    </tr>\n",
       "    <tr>\n",
       "      <th>3</th>\n",
       "      <td>179</td>\n",
       "      <td>68</td>\n",
       "    </tr>\n",
       "    <tr>\n",
       "      <th>4</th>\n",
       "      <td>182</td>\n",
       "      <td>72</td>\n",
       "    </tr>\n",
       "    <tr>\n",
       "      <th>5</th>\n",
       "      <td>188</td>\n",
       "      <td>77</td>\n",
       "    </tr>\n",
       "    <tr>\n",
       "      <th>6</th>\n",
       "      <td>180</td>\n",
       "      <td>71</td>\n",
       "    </tr>\n",
       "    <tr>\n",
       "      <th>7</th>\n",
       "      <td>180</td>\n",
       "      <td>70</td>\n",
       "    </tr>\n",
       "    <tr>\n",
       "      <th>8</th>\n",
       "      <td>183</td>\n",
       "      <td>84</td>\n",
       "    </tr>\n",
       "    <tr>\n",
       "      <th>9</th>\n",
       "      <td>180</td>\n",
       "      <td>88</td>\n",
       "    </tr>\n",
       "    <tr>\n",
       "      <th>10</th>\n",
       "      <td>180</td>\n",
       "      <td>67</td>\n",
       "    </tr>\n",
       "    <tr>\n",
       "      <th>11</th>\n",
       "      <td>177</td>\n",
       "      <td>76</td>\n",
       "    </tr>\n",
       "  </tbody>\n",
       "</table>\n",
       "</div>"
      ],
      "text/plain": [
       "      x   y\n",
       "0   185  72\n",
       "1   170  56\n",
       "2   168  60\n",
       "3   179  68\n",
       "4   182  72\n",
       "5   188  77\n",
       "6   180  71\n",
       "7   180  70\n",
       "8   183  84\n",
       "9   180  88\n",
       "10  180  67\n",
       "11  177  76"
      ]
     },
     "execution_count": 9,
     "metadata": {},
     "output_type": "execute_result"
    }
   ],
   "source": [
    "df"
   ]
  },
  {
   "cell_type": "code",
   "execution_count": 10,
   "id": "db930baa",
   "metadata": {},
   "outputs": [
    {
     "name": "stdout",
     "output_type": "stream",
     "text": [
      "The shape of data (12, 2)\n"
     ]
    }
   ],
   "source": [
    "print(\"The shape of data\",df.shape)"
   ]
  },
  {
   "cell_type": "code",
   "execution_count": 11,
   "id": "f077ac78",
   "metadata": {},
   "outputs": [],
   "source": [
    "#Elbow method\n",
    "#Choosing the right no of clusters is a important part of this algorithm.\n",
    "#An ideal way to figure out the right nof cluster isto calculate the Within Cluster sum of squares(WCSS)\n",
    "#A commonly used method for finding the optimal value of k is elbow Method \n",
    "#We are actually varying the no of clusters (k) generally from 1 to 10.For each value of k we are calculating wcss\n",
    "#WCSS is the sum of squared distance between each point and the centroid in a cluster\n",
    "#When we plot the WCSSS value with kValue the plot looks like an elbow\n",
    "#As the no of clusters increases the wcss value will start to increase"
   ]
  },
  {
   "cell_type": "code",
   "execution_count": 12,
   "id": "027dc12a",
   "metadata": {},
   "outputs": [],
   "source": [
    "wcss=[]\n",
    "for i in range (1,13):\n",
    "    km=KMeans(n_clusters=i)\n",
    "    km.fit_predict(df)\n",
    "    wcss.append(km.inertia_)"
   ]
  },
  {
   "cell_type": "code",
   "execution_count": 13,
   "id": "c213c60e",
   "metadata": {},
   "outputs": [
    {
     "data": {
      "text/plain": [
       "[1236.9166666666667,\n",
       " 526.9000000000001,\n",
       " 195.23809523809527,\n",
       " 104.16666666666667,\n",
       " 61.5,\n",
       " 37.75,\n",
       " 25.25,\n",
       " 15.25,\n",
       " 5.666666666666666,\n",
       " 1.5,\n",
       " 0.5,\n",
       " 0.0]"
      ]
     },
     "execution_count": 13,
     "metadata": {},
     "output_type": "execute_result"
    }
   ],
   "source": [
    "wcss"
   ]
  },
  {
   "cell_type": "code",
   "execution_count": 14,
   "id": "bb83851c",
   "metadata": {},
   "outputs": [
    {
     "data": {
      "text/plain": [
       "<function matplotlib.pyplot.show(close=None, block=None)>"
      ]
     },
     "execution_count": 14,
     "metadata": {},
     "output_type": "execute_result"
    },
    {
     "data": {
      "image/png": "[encoded data removed]",
      "text/plain": [
       "<Figure size 640x480 with 1 Axes>"
      ]
     },
     "metadata": {},
     "output_type": "display_data"
    }
   ],
   "source": [
    "plt.plot(range(1,13),wcss)\n",
    "plt.xlabel(\"Number of clusters\")\n",
    "plt.ylabel(\"WCSS\")\n",
    "plt.title(\"The Elbow Point graph for optimal values of k in K-Means Clustering\")\n",
    "plt.show"
   ]
  },
  {
   "cell_type": "code",
   "execution_count": 15,
   "id": "5e3879df",
   "metadata": {},
   "outputs": [
    {
     "name": "stderr",
     "output_type": "stream",
     "text": [
      "/usr/local/lib64/python3.10/site-packages/sklearn/cluster/_kmeans.py:1307: RuntimeWarning: Explicit initial center position passed: performing only one init in KMeans instead of n_init=10.\n",
      "  super()._check_params(X)\n"
     ]
    }
   ],
   "source": [
    "my_centroids=np.array([[185,72],[170,56],[168,60]])\n",
    "kmeans=KMeans(n_clusters=3,init=my_centroids).fit(df)"
   ]
  },
  {
   "cell_type": "code",
   "execution_count": 16,
   "id": "d8214982",
   "metadata": {},
   "outputs": [
    {
     "name": "stdout",
     "output_type": "stream",
     "text": [
      "[[181.4  74.5]\n",
      " [170.   56. ]\n",
      " [168.   60. ]]\n"
     ]
    }
   ],
   "source": [
    "centroids=kmeans.cluster_centers_\n",
    "print(centroids)"
   ]
  },
  {
   "cell_type": "code",
   "execution_count": 20,
   "id": "5ab7575a",
   "metadata": {},
   "outputs": [
    {
     "name": "stderr",
     "output_type": "stream",
     "text": [
      "/usr/local/lib64/python3.10/site-packages/sklearn/cluster/_kmeans.py:1307: RuntimeWarning: Explicit initial center position passed: performing only one init in KMeans instead of n_init=10.\n",
      "  super()._check_params(X)\n"
     ]
    },
    {
     "data": {
      "text/plain": [
       "array([0, 1, 2, 0, 0, 0, 0, 0, 0, 0, 0, 0], dtype=int32)"
      ]
     },
     "execution_count": 20,
     "metadata": {},
     "output_type": "execute_result"
    }
   ],
   "source": [
    "X=df.iloc[:,:].values\n",
    "y_kmeans=kmeans.fit_predict(X)\n",
    "y_kmeans"
   ]
  },
  {
   "cell_type": "code",
   "execution_count": 22,
   "id": "ba68ada7",
   "metadata": {},
   "outputs": [
    {
     "data": {
      "text/plain": [
       "<function matplotlib.pyplot.show(close=None, block=None)>"
      ]
     },
     "execution_count": 22,
     "metadata": {},
     "output_type": "execute_result"
    },
    {
     "data": {
      "image/png": "[encoded data removed]",
      "text/plain": [
       "<Figure size 640x480 with 1 Axes>"
      ]
     },
     "metadata": {},
     "output_type": "display_data"
    }
   ],
   "source": [
    "plt.scatter(X[y_kmeans==0,0],X[y_kmeans==0,1],s=60,c='lime',label='Cluster 1')\n",
    "plt.scatter(X[y_kmeans==1,0],X[y_kmeans==1,1],s=60,c='deeppink',label='Cluster 2')\n",
    "plt.scatter(X[y_kmeans==2,0],X[y_kmeans==2,1],s=60,c='chocolate',label='Cluster 3')\n",
    "plt.scatter(centroids[:,0], centroids[:,1],c='purple',s=100,marker='*',label='Centroids')\n",
    "plt.legend(loc='lower right')\n",
    "plt.show"
   ]
  },
  {
   "cell_type": "code",
   "execution_count": null,
   "id": "ef436b4b",
   "metadata": {},
   "outputs": [],
   "source": []
  }
 ],
 "metadata": {
  "kernelspec": {
   "display_name": "Python 3 (ipykernel)",
   "language": "python",
   "name": "python3"
  },
  "language_info": {
   "codemirror_mode": {
    "name": "ipython",
    "version": 3
   },
   "file_extension": ".py",
   "mimetype": "text/x-python",
   "name": "python",
   "nbconvert_exporter": "python",
   "pygments_lexer": "ipython3",
   "version": "3.11.4"
  }
 },
 "nbformat": 4,
 "nbformat_minor": 5
}
